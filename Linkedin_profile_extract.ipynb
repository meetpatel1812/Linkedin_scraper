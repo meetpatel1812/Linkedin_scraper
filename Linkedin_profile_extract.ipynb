{
 "cells": [
  {
   "cell_type": "code",
   "execution_count": 1,
   "metadata": {},
   "outputs": [],
   "source": [
    "import warnings\n",
    "warnings.filterwarnings(\"ignore\")"
   ]
  },
  {
   "cell_type": "code",
   "execution_count": 2,
   "metadata": {},
   "outputs": [
    {
     "name": "stdout",
     "output_type": "stream",
     "text": [
      "Requirement already satisfied: webdriver-manager in c:\\python3.12\\lib\\site-packages (4.0.2)\n",
      "Requirement already satisfied: requests in c:\\python3.12\\lib\\site-packages (from webdriver-manager) (2.32.3)\n",
      "Requirement already satisfied: python-dotenv in c:\\python3.12\\lib\\site-packages (from webdriver-manager) (1.0.1)\n",
      "Requirement already satisfied: packaging in c:\\python3.12\\lib\\site-packages (from webdriver-manager) (23.2)\n",
      "Requirement already satisfied: charset-normalizer<4,>=2 in c:\\python3.12\\lib\\site-packages (from requests->webdriver-manager) (3.3.2)\n",
      "Requirement already satisfied: idna<4,>=2.5 in c:\\python3.12\\lib\\site-packages (from requests->webdriver-manager) (3.6)\n",
      "Requirement already satisfied: urllib3<3,>=1.21.1 in c:\\python3.12\\lib\\site-packages (from requests->webdriver-manager) (2.2.1)\n",
      "Requirement already satisfied: certifi>=2017.4.17 in c:\\python3.12\\lib\\site-packages (from requests->webdriver-manager) (2024.2.2)\n"
     ]
    },
    {
     "name": "stderr",
     "output_type": "stream",
     "text": [
      "\n",
      "[notice] A new release of pip is available: 24.2 -> 25.0\n",
      "[notice] To update, run: python.exe -m pip install --upgrade pip\n"
     ]
    }
   ],
   "source": [
    "!pip install webdriver-manager\n"
   ]
  },
  {
   "cell_type": "code",
   "execution_count": 3,
   "metadata": {},
   "outputs": [
    {
     "data": {
      "text/plain": [
       "True"
      ]
     },
     "execution_count": 3,
     "metadata": {},
     "output_type": "execute_result"
    }
   ],
   "source": [
    "import os\n",
    "from bs4 import BeautifulSoup\n",
    "from selenium import webdriver\n",
    "from selenium.webdriver.common.by import By\n",
    "\n",
    "from time import sleep\n",
    "\n",
    "from dotenv import load_dotenv\n",
    "load_dotenv()"
   ]
  },
  {
   "cell_type": "code",
   "execution_count": 4,
   "metadata": {},
   "outputs": [],
   "source": [
    "# if you don't have a .env file, you can create one and add the following lines:\n",
    "os.environ['EMAIL'] = 'daziaconsulting@gmail.com'\n",
    "os.environ['PASSWORD'] = 'Dazia@2024'   "
   ]
  },
  {
   "cell_type": "code",
   "execution_count": 5,
   "metadata": {},
   "outputs": [],
   "source": [
    "driver = webdriver.Chrome()"
   ]
  },
  {
   "cell_type": "code",
   "execution_count": 6,
   "metadata": {},
   "outputs": [],
   "source": [
    "driver.get('https://www.linkedin.com/login')"
   ]
  },
  {
   "cell_type": "code",
   "execution_count": 7,
   "metadata": {},
   "outputs": [
    {
     "data": {
      "text/plain": [
       "'LinkedIn Login, Sign in | LinkedIn'"
      ]
     },
     "execution_count": 7,
     "metadata": {},
     "output_type": "execute_result"
    }
   ],
   "source": [
    "driver.title"
   ]
  },
  {
   "cell_type": "code",
   "execution_count": 8,
   "metadata": {},
   "outputs": [],
   "source": [
    "email = driver.find_element(By.ID, 'username')\n",
    "email.send_keys(os.environ['EMAIL'])\n",
    "\n",
    "password = driver.find_element(By.ID, 'password')\n",
    "password.send_keys(os.environ['PASSWORD'])\n",
    "\n",
    "password.submit()"
   ]
  },
  {
   "cell_type": "code",
   "execution_count": 9,
   "metadata": {},
   "outputs": [],
   "source": [
    "## MAKE SURE TO USE ONLY THIS URL TO AVOID BEING STUCK IN ERRORS\n",
    "\n",
    "# url = \"https://www.linkedin.com/in/hannah-nardone-126655282/\"\n",
    "url = \"https://www.linkedin.com/in/badshah/\"\n",
    "driver.get(url)"
   ]
  },
  {
   "cell_type": "code",
   "execution_count": 10,
   "metadata": {},
   "outputs": [],
   "source": [
    "profile_data = {}"
   ]
  },
  {
   "cell_type": "code",
   "execution_count": 11,
   "metadata": {},
   "outputs": [
    {
     "data": {
      "text/plain": [
       "'(24) Shabs FindGrant | LinkedIn'"
      ]
     },
     "execution_count": 11,
     "metadata": {},
     "output_type": "execute_result"
    }
   ],
   "source": [
    "driver.title"
   ]
  },
  {
   "cell_type": "code",
   "execution_count": 12,
   "metadata": {},
   "outputs": [],
   "source": [
    "page_source = driver.page_source\n",
    "soup = BeautifulSoup(page_source, 'lxml')\n",
    "\n",
    "name = soup.find('h1')\n",
    "\n",
    "name = name.get_text().strip()\n",
    "\n",
    "profile_data['name'] = name\n",
    "profile_data['url'] = url"
   ]
  },
  {
   "cell_type": "code",
   "execution_count": 13,
   "metadata": {},
   "outputs": [
    {
     "data": {
      "text/plain": [
       "{'name': 'Shabs FindGrant', 'url': 'https://www.linkedin.com/in/badshah/'}"
      ]
     },
     "execution_count": 13,
     "metadata": {},
     "output_type": "execute_result"
    }
   ],
   "source": [
    "profile_data"
   ]
  },
  {
   "cell_type": "code",
   "execution_count": 14,
   "metadata": {},
   "outputs": [],
   "source": [
    "headline = soup.find('div', {'class': 'text-body-medium break-words'})\n",
    "headline = headline.get_text().strip()\n",
    "\n",
    "profile_data['headline'] = headline"
   ]
  },
  {
   "cell_type": "code",
   "execution_count": 15,
   "metadata": {},
   "outputs": [
    {
     "data": {
      "text/plain": [
       "{'name': 'Shabs FindGrant',\n",
       " 'url': 'https://www.linkedin.com/in/badshah/',\n",
       " 'headline': 'FindGrant.ca | AI for finding grants'}"
      ]
     },
     "execution_count": 15,
     "metadata": {},
     "output_type": "execute_result"
    }
   ],
   "source": [
    "profile_data"
   ]
  },
  {
   "cell_type": "code",
   "execution_count": 16,
   "metadata": {},
   "outputs": [],
   "source": [
    "page_source = driver.page_source\n",
    "soup = BeautifulSoup(page_source, 'lxml')\n",
    "\n",
    "about = soup.find('div', {'class': 'display-flex ph5 pv3'})\n",
    "\n",
    "about = about.get_text().strip()\n",
    "\n",
    "profile_data['about'] = about"
   ]
  },
  {
   "cell_type": "code",
   "execution_count": 17,
   "metadata": {},
   "outputs": [
    {
     "data": {
      "text/plain": [
       "{'name': 'Shabs FindGrant',\n",
       " 'url': 'https://www.linkedin.com/in/badshah/',\n",
       " 'headline': 'FindGrant.ca | AI for finding grants',\n",
       " 'about': \"Use #AI to help you find over $37 billion in #grants from the federal, provincial and city governments.. Check out https://FindGrant.ca! I have 15+ years experience in IT and Finance Specialities:  Prototypes, Blockchain, Full stack development, Responsive web frameworks, People Management, Information Technology, CommunityWinner at Blockhack 2023 (Grand Prize), Elevate Toronto 2018 (First place), HackJustice 2017 (Second place), Climathon Toronto 2016 (People's Choice), HorseRacing 3.0 2016 (2nd Grand Prize)Use #AI to help you find over $37 billion in #grants from the federal, provincial and city governments.. Check out https://FindGrant.ca! \\n\\nI have 15+ years experience in IT and Finance \\nSpecialities:  Prototypes, Blockchain, Full stack development, Responsive web frameworks, People Management, Information Technology, Community\\n\\nWinner at Blockhack 2023 (Grand Prize), Elevate Toronto 2018 (First place), \\nHackJustice 2017 (Second place), Climathon Toronto 2016 (People's Choice), HorseRacing 3.0 2016 (2nd Grand Prize)\"}"
      ]
     },
     "execution_count": 17,
     "metadata": {},
     "output_type": "execute_result"
    }
   ],
   "source": [
    "profile_data"
   ]
  },
  {
   "cell_type": "code",
   "execution_count": 18,
   "metadata": {},
   "outputs": [],
   "source": [
    "url2 = f\"{url}/overlay/contact-info/\"\n",
    "driver.get(url2)"
   ]
  },
  {
   "cell_type": "code",
   "execution_count": 19,
   "metadata": {},
   "outputs": [
    {
     "name": "stdout",
     "output_type": "stream",
     "text": [
      "blank\n"
     ]
    }
   ],
   "source": [
    "page_source = driver.page_source\n",
    "soup = BeautifulSoup(page_source, 'lxml')\n",
    "\n",
    "\n",
    "email = soup.find('div', {'class': 'sTcdifezBUxpROXbnKHLDEcFBCqbbiGT link-without-visited-state t-14'})\n",
    "\n",
    "if email:\n",
    "    email = email.get_text().strip()\n",
    "else:\n",
    "    print(\"blank\")\n",
    "\n",
    "profile_data['email'] = email"
   ]
  },
  {
   "cell_type": "code",
   "execution_count": 20,
   "metadata": {},
   "outputs": [
    {
     "data": {
      "text/plain": [
       "{'name': 'Shabs FindGrant',\n",
       " 'url': 'https://www.linkedin.com/in/badshah/',\n",
       " 'headline': 'FindGrant.ca | AI for finding grants',\n",
       " 'about': \"Use #AI to help you find over $37 billion in #grants from the federal, provincial and city governments.. Check out https://FindGrant.ca! I have 15+ years experience in IT and Finance Specialities:  Prototypes, Blockchain, Full stack development, Responsive web frameworks, People Management, Information Technology, CommunityWinner at Blockhack 2023 (Grand Prize), Elevate Toronto 2018 (First place), HackJustice 2017 (Second place), Climathon Toronto 2016 (People's Choice), HorseRacing 3.0 2016 (2nd Grand Prize)Use #AI to help you find over $37 billion in #grants from the federal, provincial and city governments.. Check out https://FindGrant.ca! \\n\\nI have 15+ years experience in IT and Finance \\nSpecialities:  Prototypes, Blockchain, Full stack development, Responsive web frameworks, People Management, Information Technology, Community\\n\\nWinner at Blockhack 2023 (Grand Prize), Elevate Toronto 2018 (First place), \\nHackJustice 2017 (Second place), Climathon Toronto 2016 (People's Choice), HorseRacing 3.0 2016 (2nd Grand Prize)\",\n",
       " 'email': None}"
      ]
     },
     "execution_count": 20,
     "metadata": {},
     "output_type": "execute_result"
    }
   ],
   "source": [
    "profile_data"
   ]
  },
  {
   "cell_type": "code",
   "execution_count": 21,
   "metadata": {},
   "outputs": [
    {
     "name": "stdout",
     "output_type": "stream",
     "text": [
      "{'tags': \"I'd be happy to help! After analyzing the headline and about section, I extracted the following tags:\\n\\n```\\n['FindGrant.ca', 'AI', 'Grants', 'IT', 'Finance', 'Prototypes', 'Blockchain', 'Full Stack Development', 'Responsive Web Frameworks', 'People Management', 'Information Technology', 'Community', 'Blockhack 2023', 'Elevate Toronto 2018', 'HackJustice 2017', 'Climathon Toronto 2016', 'HorseRacing 3.0 2016', 'Toronto', 'Government', 'Canada']\\n```\\n\\nThese tags represent the person's background, roles, interests, and areas of expertise, as well as notable achievements and affiliations.\", 'summary': 'Here is a 50-word summary of the text:\\n\\nUse AI to find $37 billion in government grants on FindGrant.ca. The platform provides access to federal, provincial, and city grants. The author has 15+ years of experience in IT and finance, specializing in areas like prototyping and blockchain.'}\n"
     ]
    }
   ],
   "source": [
    "import os\n",
    "from groq import Groq\n",
    "\n",
    "# Initialize Groq API\n",
    "os.environ[\"GROQ_API_KEY\"] = \"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\"\n",
    "client = Groq(api_key=os.environ.get(\"GROQ_API_KEY\"))\n",
    "\n",
    "def extract_dynamic_tags_and_summarize(input_data):\n",
    "    \"\"\"\n",
    "    Extract dynamic tags based on the understanding of the AI model\n",
    "    and summarize the 'about' section in 50 words.\n",
    "    \"\"\"\n",
    "    try:\n",
    "        # Extract headline and about section\n",
    "        headline = input_data.get(\"headline\", \"\")\n",
    "        about = input_data.get(\"about\", \"\")\n",
    "\n",
    "        # AI prompt to extract dynamic tags\n",
    "        tag_prompt = f\"\"\"\n",
    "        Analyze the following headline and about section to extract key tags that best describe the person's background, roles, interests, and areas of expertise. Only in Tags format like McMaster University, Mathematics, Student etc.\n",
    "        \n",
    "        Headline: {headline}\n",
    "        About: {about}\n",
    "        \n",
    "        Extract the tags dynamically and provide them as a python list of strings.\n",
    "        \"\"\"\n",
    "        tag_response = client.chat.completions.create(\n",
    "            model=\"llama3-8b-8192\",\n",
    "            messages=[\n",
    "                {\"role\": \"system\", \"content\": \"You are an expert AI for analyzing text and extracting meaningful tags.\"},\n",
    "                {\"role\": \"user\", \"content\": tag_prompt}\n",
    "            ]\n",
    "        )\n",
    "        tags = tag_response.choices[0].message.content.strip()\n",
    "# tag_response.choices[0].message.content.strip()\n",
    "        # AI prompt to summarize the 'about' section\n",
    "        summary_prompt = f\"\"\"\n",
    "        Summarize the following text into 50 words:\n",
    "        \"{about}\"\n",
    "        \"\"\"\n",
    "        summary_response = client.chat.completions.create(\n",
    "            model=\"llama3-8b-8192\",\n",
    "\n",
    "            messages=[\n",
    "                {\"role\": \"system\", \"content\": \"You are a text summarization assistant.\"},\n",
    "                {\"role\": \"user\", \"content\": summary_prompt}\n",
    "            ]\n",
    "        )\n",
    "        summary = summary_response.choices[0].message.content.strip()\n",
    "# summary_response.choices[0].message.content.strip()\n",
    "        return {\n",
    "            \"tags\": tags,\n",
    "            \"summary\": summary\n",
    "        }\n",
    "\n",
    "    except Exception as e:\n",
    "        return {\"error\": str(e)}\n",
    "\n",
    "# Input data\n",
    "input_data = {'name': 'Shabs FindGrant',\n",
    " 'url': 'https://www.linkedin.com/in/badshah/',\n",
    " 'headline': 'FindGrant.ca | AI for finding grants',\n",
    " 'about': \"Use #AI to help you find over $37 billion in #grants from the federal, provincial and city governments.. Check out https://FindGrant.ca! I have 15+ years experience in IT and Finance Specialities:  Prototypes, Blockchain, Full stack development, Responsive web frameworks, People Management, Information Technology, CommunityWinner at Blockhack 2023 (Grand Prize), Elevate Toronto 2018 (First place), HackJustice 2017 (Second place), Climathon Toronto 2016 (People's Choice), HorseRacing 3.0 2016 (2nd Grand Prize)Use #AI to help you find over $37 billion in #grants from the federal, provincial and city governments.. Check out https://FindGrant.ca! \\n\\nI have 15+ years experience in IT and Finance \\nSpecialities:  Prototypes, Blockchain, Full stack development, Responsive web frameworks, People Management, Information Technology, Community\\n\\nWinner at Blockhack 2023 (Grand Prize), Elevate Toronto 2018 (First place), \\nHackJustice 2017 (Second place), Climathon Toronto 2016 (People's Choice), HorseRacing 3.0 2016 (2nd Grand Prize)\",\n",
    " 'email': None}\n",
    "\n",
    "# Extract dynamic tags and summarize\n",
    "result = extract_dynamic_tags_and_summarize(input_data)\n",
    "print(result)"
   ]
  },
  {
   "cell_type": "markdown",
   "metadata": {},
   "source": [
    "## New code"
   ]
  },
  {
   "cell_type": "code",
   "execution_count": 24,
   "metadata": {},
   "outputs": [],
   "source": [
    "import os\n",
    "from groq import Groq\n",
    "\n",
    "# Initialize Groq API\n",
    "os.environ[\"GROQ_API_KEY\"] = \"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\"\n",
    "client = Groq(api_key=os.environ.get(\"GROQ_API_KEY\"))\n",
    "\n",
    "def extract_tags_summarize_and_create_note(input_data):\n",
    "    \"\"\"\n",
    "    Extract dynamic tags, summarize the 'about' section in 50 words as \"I\",\n",
    "    and create a 100-word LinkedIn connection request note.\n",
    "    \"\"\"\n",
    "    try:\n",
    "        # Extract relevant fields\n",
    "        name = input_data.get(\"name\", \"\")\n",
    "        headline = input_data.get(\"headline\", \"\")\n",
    "        # about = input_data.get(\"about\", \"\")\n",
    "\n",
    "        # AI prompt to extract dynamic tags\n",
    "        tag_prompt = f\"\"\"\n",
    "        Analyze the following information and extract key tags that describe the person's roles, interests, and expertise.\n",
    "        Provide ONLY a comma-separated list of tags. Do NOT include any additional text or explanations.\n",
    "\n",
    "        Name: {name}\n",
    "        Headline: {headline}\n",
    "        About: {about}\n",
    "        \"\"\"\n",
    "        tag_response = client.chat.completions.create(\n",
    "            model=\"llama3-8b-8192\",\n",
    "            messages=[\n",
    "                {\"role\": \"system\", \"content\": \"You are an expert AI for analyzing text and extracting meaningful tags.\"},\n",
    "                {\"role\": \"user\", \"content\": tag_prompt}\n",
    "            ]\n",
    "        )\n",
    "        tags = tag_response.choices[0].message.content.strip()\n",
    "\n",
    "        # AI prompt to summarize the 'about' section in 50 words as \"I\"\n",
    "        summary_prompt = f\"\"\"\n",
    "        Summarize the following text into 50 words in first person (\"I\"). \n",
    "        Provide ONLY the summary.\n",
    "        Strongly Do NOT include any additional text or explanations.\n",
    "\n",
    "        About: \"{about}\"\n",
    "        \"\"\"\n",
    "        summary_response = client.chat.completions.create(\n",
    "            model=\"llama3-8b-8192\",\n",
    "            messages=[\n",
    "                {\"role\": \"system\", \"content\": \"You are a text summarization assistant.\"},\n",
    "                {\"role\": \"user\", \"content\": summary_prompt}\n",
    "            ]\n",
    "        )\n",
    "        summary = summary_response.choices[0].message.content.strip()\n",
    "\n",
    "        # AI prompt to create a 100-word LinkedIn connection request note\n",
    "        note_prompt = f\"\"\"\n",
    "        Create a 100-word LinkedIn connection request note based on the following information.\n",
    "        Provide ONLY the note.\n",
    "        Strongly Do NOT include any additional text or explanations.\n",
    "\n",
    "        Name: {name}\n",
    "        Headline: {headline}\n",
    "        About: {about}\n",
    "        \"\"\"\n",
    "        note_response = client.chat.completions.create(\n",
    "            model=\"llama3-8b-8192\",\n",
    "            messages=[\n",
    "                {\"role\": \"system\", \"content\": \"You are a professional networking assistant.\"},\n",
    "                {\"role\": \"user\", \"content\": note_prompt}\n",
    "            ]\n",
    "        )\n",
    "        note = note_response.choices[0].message.content.strip()\n",
    "\n",
    "        return {\n",
    "            \"tags\": tags,\n",
    "            \"summary\": summary,\n",
    "            \"linkedin_note\": note\n",
    "        }\n",
    "\n",
    "    except Exception as e:\n",
    "        return {\"error\": str(e)}\n",
    "\n",
    "# Input data\n",
    "input_data = profile_data\n",
    "# input_data = {\n",
    "#     'name': 'Shabs FindGrant',\n",
    "#     'url': 'https://www.linkedin.com/in/badshah/',\n",
    "#     'headline': 'FindGrant.ca | AI for finding grants',\n",
    "#     'about': \"Use #AI to help you find over $37 billion in #grants from the federal, provincial and city governments.. Check out https://FindGrant.ca! I have 15+ years experience in IT and Finance Specialities:  Prototypes, Blockchain, Full stack development, Responsive web frameworks, People Management, Information Technology, CommunityWinner at Blockhack 2023 (Grand Prize), Elevate Toronto 2018 (First place), HackJustice 2017 (Second place), Climathon Toronto 2016 (People's Choice), HorseRacing 3.0 2016 (2nd Grand Prize)Use #AI to help you find over $37 billion in #grants from the federal, provincial and city governments.. Check out https://FindGrant.ca! \\n\\nI have 15+ years experience in IT and Finance \\nSpecialities:  Prototypes, Blockchain, Full stack development, Responsive web frameworks, People Management, Information Technology, Community\\n\\nWinner at Blockhack 2023 (Grand Prize), Elevate Toronto 2018 (First place), \\nHackJustice 2017 (Second place), Climathon Toronto 2016 (People's Choice), HorseRacing 3.0 2016 (2nd Grand Prize)\",\n",
    "#     'email': None\n",
    "# }\n",
    "\n",
    "# Extract tags, summarize, and create LinkedIn note\n",
    "result = extract_tags_summarize_and_create_note(input_data)"
   ]
  },
  {
   "cell_type": "code",
   "execution_count": 25,
   "metadata": {},
   "outputs": [
    {
     "data": {
      "text/plain": [
       "{'tags': 'Grants, AI, IT, Finance, Prototypes, Blockchain, Full Stack Development, Responsive Web Frameworks, People Management, Information Technology, Community Development, Entrepreneur, Developer, Hacker, Award Winner',\n",
       " 'summary': \"I have 15+ years of experience in IT and Finance, with specialities in prototypes, blockchain, and more. I've won multiple awards and now use my expertise to help people find over $37 billion in government grants through my website, FindGrant.ca.\",\n",
       " 'linkedin_note': '\"I\\'m Shabs FindGrant, founder of FindGrant.ca, a platform using AI to discover over $37 billion in grants from governments. With 15+ years of experience in IT and Finance, my expertise includes prototype development, blockchain, and full-stack development. I\\'m proud to have won several hackathons, including Blockhack 2023, Elevate Toronto 2018, and more. I\\'m excited to connect and leverage my skills to help others find funding opportunities. Let\\'s connect and explore how we can collaborate!\"'}"
      ]
     },
     "execution_count": 25,
     "metadata": {},
     "output_type": "execute_result"
    }
   ],
   "source": [
    "result"
   ]
  },
  {
   "cell_type": "code",
   "execution_count": null,
   "metadata": {},
   "outputs": [],
   "source": []
  },
  {
   "cell_type": "code",
   "execution_count": null,
   "metadata": {},
   "outputs": [],
   "source": []
  }
 ],
 "metadata": {
  "kernelspec": {
   "display_name": "Python 3",
   "language": "python",
   "name": "python3"
  },
  "language_info": {
   "codemirror_mode": {
    "name": "ipython",
    "version": 3
   },
   "file_extension": ".py",
   "mimetype": "text/x-python",
   "name": "python",
   "nbconvert_exporter": "python",
   "pygments_lexer": "ipython3",
   "version": "3.12.0"
  }
 },
 "nbformat": 4,
 "nbformat_minor": 2
}
