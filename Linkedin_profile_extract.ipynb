{
 "cells": [
  {
   "cell_type": "code",
   "execution_count": 205,
   "metadata": {},
   "outputs": [],
   "source": [
    "import warnings\n",
    "warnings.filterwarnings(\"ignore\")"
   ]
  },
  {
   "cell_type": "code",
   "execution_count": 206,
   "metadata": {},
   "outputs": [
    {
     "name": "stdout",
     "output_type": "stream",
     "text": [
      "Requirement already satisfied: webdriver-manager in c:\\python3.12\\lib\\site-packages (4.0.2)\n",
      "Requirement already satisfied: requests in c:\\python3.12\\lib\\site-packages (from webdriver-manager) (2.32.3)\n",
      "Requirement already satisfied: python-dotenv in c:\\python3.12\\lib\\site-packages (from webdriver-manager) (1.0.1)\n",
      "Requirement already satisfied: packaging in c:\\python3.12\\lib\\site-packages (from webdriver-manager) (23.2)\n",
      "Requirement already satisfied: charset-normalizer<4,>=2 in c:\\python3.12\\lib\\site-packages (from requests->webdriver-manager) (3.3.2)\n",
      "Requirement already satisfied: idna<4,>=2.5 in c:\\python3.12\\lib\\site-packages (from requests->webdriver-manager) (3.6)\n",
      "Requirement already satisfied: urllib3<3,>=1.21.1 in c:\\python3.12\\lib\\site-packages (from requests->webdriver-manager) (2.2.1)\n",
      "Requirement already satisfied: certifi>=2017.4.17 in c:\\python3.12\\lib\\site-packages (from requests->webdriver-manager) (2024.2.2)\n"
     ]
    },
    {
     "name": "stderr",
     "output_type": "stream",
     "text": [
      "\n",
      "[notice] A new release of pip is available: 24.2 -> 24.3.1\n",
      "[notice] To update, run: python.exe -m pip install --upgrade pip\n"
     ]
    }
   ],
   "source": [
    "!pip install webdriver-manager\n"
   ]
  },
  {
   "cell_type": "code",
   "execution_count": 207,
   "metadata": {},
   "outputs": [
    {
     "data": {
      "text/plain": [
       "True"
      ]
     },
     "execution_count": 207,
     "metadata": {},
     "output_type": "execute_result"
    }
   ],
   "source": [
    "import os\n",
    "from bs4 import BeautifulSoup\n",
    "from selenium import webdriver\n",
    "from selenium.webdriver.common.by import By\n",
    "\n",
    "from time import sleep\n",
    "\n",
    "from dotenv import load_dotenv\n",
    "load_dotenv()"
   ]
  },
  {
   "cell_type": "code",
   "execution_count": 208,
   "metadata": {},
   "outputs": [],
   "source": [
    "# if you don't have a .env file, you can create one and add the following lines:\n",
    "os.environ['EMAIL'] = 'daziaconsulting@gmail.com'\n",
    "os.environ['PASSWORD'] = 'Dazia@2024'   "
   ]
  },
  {
   "cell_type": "code",
   "execution_count": 209,
   "metadata": {},
   "outputs": [],
   "source": [
    "driver = webdriver.Chrome()"
   ]
  },
  {
   "cell_type": "code",
   "execution_count": 210,
   "metadata": {},
   "outputs": [],
   "source": [
    "driver.get('https://www.linkedin.com/login')"
   ]
  },
  {
   "cell_type": "code",
   "execution_count": 211,
   "metadata": {},
   "outputs": [
    {
     "data": {
      "text/plain": [
       "'LinkedIn Login, Sign in | LinkedIn'"
      ]
     },
     "execution_count": 211,
     "metadata": {},
     "output_type": "execute_result"
    }
   ],
   "source": [
    "driver.title"
   ]
  },
  {
   "cell_type": "code",
   "execution_count": 212,
   "metadata": {},
   "outputs": [
    {
     "ename": "NoSuchWindowException",
     "evalue": "Message: no such window: target window already closed\nfrom unknown error: web view not found\n  (Session info: chrome=131.0.6778.267)\nStacktrace:\n\tGetHandleVerifier [0x00007FF6305080D5+2992373]\n\t(No symbol) [0x00007FF63019BFD0]\n\t(No symbol) [0x00007FF63003590A]\n\t(No symbol) [0x00007FF63000F4F5]\n\t(No symbol) [0x00007FF6300B63A7]\n\t(No symbol) [0x00007FF6300CEE72]\n\t(No symbol) [0x00007FF6300AF113]\n\t(No symbol) [0x00007FF63007A918]\n\t(No symbol) [0x00007FF63007BA81]\n\tGetHandleVerifier [0x00007FF630566A2D+3379789]\n\tGetHandleVerifier [0x00007FF63057C32D+3468109]\n\tGetHandleVerifier [0x00007FF630570043+3418211]\n\tGetHandleVerifier [0x00007FF6302FC78B+847787]\n\t(No symbol) [0x00007FF6301A757F]\n\t(No symbol) [0x00007FF6301A2FC4]\n\t(No symbol) [0x00007FF6301A315D]\n\t(No symbol) [0x00007FF630192979]\n\tBaseThreadInitThunk [0x00007FF99DF6E8D7+23]\n\tRtlUserThreadStart [0x00007FF99EFDFBCC+44]\n",
     "output_type": "error",
     "traceback": [
      "\u001b[1;31m---------------------------------------------------------------------------\u001b[0m",
      "\u001b[1;31mNoSuchWindowException\u001b[0m                     Traceback (most recent call last)",
      "Cell \u001b[1;32mIn[212], line 7\u001b[0m\n\u001b[0;32m      4\u001b[0m password \u001b[38;5;241m=\u001b[39m driver\u001b[38;5;241m.\u001b[39mfind_element(By\u001b[38;5;241m.\u001b[39mID, \u001b[38;5;124m'\u001b[39m\u001b[38;5;124mpassword\u001b[39m\u001b[38;5;124m'\u001b[39m)\n\u001b[0;32m      5\u001b[0m password\u001b[38;5;241m.\u001b[39msend_keys(os\u001b[38;5;241m.\u001b[39menviron[\u001b[38;5;124m'\u001b[39m\u001b[38;5;124mPASSWORD\u001b[39m\u001b[38;5;124m'\u001b[39m])\n\u001b[1;32m----> 7\u001b[0m \u001b[43mpassword\u001b[49m\u001b[38;5;241;43m.\u001b[39;49m\u001b[43msubmit\u001b[49m\u001b[43m(\u001b[49m\u001b[43m)\u001b[49m\n",
      "File \u001b[1;32mc:\\python3.12\\Lib\\site-packages\\selenium\\webdriver\\remote\\webelement.py:111\u001b[0m, in \u001b[0;36mWebElement.submit\u001b[1;34m(self)\u001b[0m\n\u001b[0;32m     98\u001b[0m script \u001b[38;5;241m=\u001b[39m (\n\u001b[0;32m     99\u001b[0m     \u001b[38;5;124m\"\u001b[39m\u001b[38;5;124m/* submitForm */var form = arguments[0];\u001b[39m\u001b[38;5;130;01m\\n\u001b[39;00m\u001b[38;5;124m\"\u001b[39m\n\u001b[0;32m    100\u001b[0m     \u001b[38;5;124m'\u001b[39m\u001b[38;5;124mwhile (form.nodeName != \u001b[39m\u001b[38;5;124m\"\u001b[39m\u001b[38;5;124mFORM\u001b[39m\u001b[38;5;124m\"\u001b[39m\u001b[38;5;124m && form.parentNode) \u001b[39m\u001b[38;5;124m{\u001b[39m\u001b[38;5;130;01m\\n\u001b[39;00m\u001b[38;5;124m'\u001b[39m\n\u001b[1;32m   (...)\u001b[0m\n\u001b[0;32m    107\u001b[0m     \u001b[38;5;124m\"\u001b[39m\u001b[38;5;124mif (form.dispatchEvent(e)) \u001b[39m\u001b[38;5;124m{\u001b[39m\u001b[38;5;124m HTMLFormElement.prototype.submit.call(form) }\u001b[39m\u001b[38;5;130;01m\\n\u001b[39;00m\u001b[38;5;124m\"\u001b[39m\n\u001b[0;32m    108\u001b[0m )\n\u001b[0;32m    110\u001b[0m \u001b[38;5;28;01mtry\u001b[39;00m:\n\u001b[1;32m--> 111\u001b[0m     \u001b[38;5;28;43mself\u001b[39;49m\u001b[38;5;241;43m.\u001b[39;49m\u001b[43m_parent\u001b[49m\u001b[38;5;241;43m.\u001b[39;49m\u001b[43mexecute_script\u001b[49m\u001b[43m(\u001b[49m\u001b[43mscript\u001b[49m\u001b[43m,\u001b[49m\u001b[43m \u001b[49m\u001b[38;5;28;43mself\u001b[39;49m\u001b[43m)\u001b[49m\n\u001b[0;32m    112\u001b[0m \u001b[38;5;28;01mexcept\u001b[39;00m JavascriptException \u001b[38;5;28;01mas\u001b[39;00m exc:\n\u001b[0;32m    113\u001b[0m     \u001b[38;5;28;01mraise\u001b[39;00m WebDriverException(\u001b[38;5;124m\"\u001b[39m\u001b[38;5;124mTo submit an element, it must be nested inside a form element\u001b[39m\u001b[38;5;124m\"\u001b[39m) \u001b[38;5;28;01mfrom\u001b[39;00m \u001b[38;5;21;01mexc\u001b[39;00m\n",
      "File \u001b[1;32mc:\\python3.12\\Lib\\site-packages\\selenium\\webdriver\\remote\\webdriver.py:444\u001b[0m, in \u001b[0;36mWebDriver.execute_script\u001b[1;34m(self, script, *args)\u001b[0m\n\u001b[0;32m    441\u001b[0m converted_args \u001b[38;5;241m=\u001b[39m \u001b[38;5;28mlist\u001b[39m(args)\n\u001b[0;32m    442\u001b[0m command \u001b[38;5;241m=\u001b[39m Command\u001b[38;5;241m.\u001b[39mW3C_EXECUTE_SCRIPT\n\u001b[1;32m--> 444\u001b[0m \u001b[38;5;28;01mreturn\u001b[39;00m \u001b[38;5;28;43mself\u001b[39;49m\u001b[38;5;241;43m.\u001b[39;49m\u001b[43mexecute\u001b[49m\u001b[43m(\u001b[49m\u001b[43mcommand\u001b[49m\u001b[43m,\u001b[49m\u001b[43m \u001b[49m\u001b[43m{\u001b[49m\u001b[38;5;124;43m\"\u001b[39;49m\u001b[38;5;124;43mscript\u001b[39;49m\u001b[38;5;124;43m\"\u001b[39;49m\u001b[43m:\u001b[49m\u001b[43m \u001b[49m\u001b[43mscript\u001b[49m\u001b[43m,\u001b[49m\u001b[43m \u001b[49m\u001b[38;5;124;43m\"\u001b[39;49m\u001b[38;5;124;43margs\u001b[39;49m\u001b[38;5;124;43m\"\u001b[39;49m\u001b[43m:\u001b[49m\u001b[43m \u001b[49m\u001b[43mconverted_args\u001b[49m\u001b[43m}\u001b[49m\u001b[43m)\u001b[49m[\u001b[38;5;124m\"\u001b[39m\u001b[38;5;124mvalue\u001b[39m\u001b[38;5;124m\"\u001b[39m]\n",
      "File \u001b[1;32mc:\\python3.12\\Lib\\site-packages\\selenium\\webdriver\\remote\\webdriver.py:384\u001b[0m, in \u001b[0;36mWebDriver.execute\u001b[1;34m(self, driver_command, params)\u001b[0m\n\u001b[0;32m    382\u001b[0m response \u001b[38;5;241m=\u001b[39m \u001b[38;5;28mself\u001b[39m\u001b[38;5;241m.\u001b[39mcommand_executor\u001b[38;5;241m.\u001b[39mexecute(driver_command, params)\n\u001b[0;32m    383\u001b[0m \u001b[38;5;28;01mif\u001b[39;00m response:\n\u001b[1;32m--> 384\u001b[0m     \u001b[38;5;28;43mself\u001b[39;49m\u001b[38;5;241;43m.\u001b[39;49m\u001b[43merror_handler\u001b[49m\u001b[38;5;241;43m.\u001b[39;49m\u001b[43mcheck_response\u001b[49m\u001b[43m(\u001b[49m\u001b[43mresponse\u001b[49m\u001b[43m)\u001b[49m\n\u001b[0;32m    385\u001b[0m     response[\u001b[38;5;124m\"\u001b[39m\u001b[38;5;124mvalue\u001b[39m\u001b[38;5;124m\"\u001b[39m] \u001b[38;5;241m=\u001b[39m \u001b[38;5;28mself\u001b[39m\u001b[38;5;241m.\u001b[39m_unwrap_value(response\u001b[38;5;241m.\u001b[39mget(\u001b[38;5;124m\"\u001b[39m\u001b[38;5;124mvalue\u001b[39m\u001b[38;5;124m\"\u001b[39m, \u001b[38;5;28;01mNone\u001b[39;00m))\n\u001b[0;32m    386\u001b[0m     \u001b[38;5;28;01mreturn\u001b[39;00m response\n",
      "File \u001b[1;32mc:\\python3.12\\Lib\\site-packages\\selenium\\webdriver\\remote\\errorhandler.py:232\u001b[0m, in \u001b[0;36mErrorHandler.check_response\u001b[1;34m(self, response)\u001b[0m\n\u001b[0;32m    230\u001b[0m         alert_text \u001b[38;5;241m=\u001b[39m value[\u001b[38;5;124m\"\u001b[39m\u001b[38;5;124malert\u001b[39m\u001b[38;5;124m\"\u001b[39m]\u001b[38;5;241m.\u001b[39mget(\u001b[38;5;124m\"\u001b[39m\u001b[38;5;124mtext\u001b[39m\u001b[38;5;124m\"\u001b[39m)\n\u001b[0;32m    231\u001b[0m     \u001b[38;5;28;01mraise\u001b[39;00m exception_class(message, screen, stacktrace, alert_text)  \u001b[38;5;66;03m# type: ignore[call-arg]  # mypy is not smart enough here\u001b[39;00m\n\u001b[1;32m--> 232\u001b[0m \u001b[38;5;28;01mraise\u001b[39;00m exception_class(message, screen, stacktrace)\n",
      "\u001b[1;31mNoSuchWindowException\u001b[0m: Message: no such window: target window already closed\nfrom unknown error: web view not found\n  (Session info: chrome=131.0.6778.267)\nStacktrace:\n\tGetHandleVerifier [0x00007FF6305080D5+2992373]\n\t(No symbol) [0x00007FF63019BFD0]\n\t(No symbol) [0x00007FF63003590A]\n\t(No symbol) [0x00007FF63000F4F5]\n\t(No symbol) [0x00007FF6300B63A7]\n\t(No symbol) [0x00007FF6300CEE72]\n\t(No symbol) [0x00007FF6300AF113]\n\t(No symbol) [0x00007FF63007A918]\n\t(No symbol) [0x00007FF63007BA81]\n\tGetHandleVerifier [0x00007FF630566A2D+3379789]\n\tGetHandleVerifier [0x00007FF63057C32D+3468109]\n\tGetHandleVerifier [0x00007FF630570043+3418211]\n\tGetHandleVerifier [0x00007FF6302FC78B+847787]\n\t(No symbol) [0x00007FF6301A757F]\n\t(No symbol) [0x00007FF6301A2FC4]\n\t(No symbol) [0x00007FF6301A315D]\n\t(No symbol) [0x00007FF630192979]\n\tBaseThreadInitThunk [0x00007FF99DF6E8D7+23]\n\tRtlUserThreadStart [0x00007FF99EFDFBCC+44]\n"
     ]
    }
   ],
   "source": [
    "email = driver.find_element(By.ID, 'username')\n",
    "email.send_keys(os.environ['EMAIL'])\n",
    "\n",
    "password = driver.find_element(By.ID, 'password')\n",
    "password.send_keys(os.environ['PASSWORD'])\n",
    "\n",
    "password.submit()"
   ]
  },
  {
   "cell_type": "code",
   "execution_count": 190,
   "metadata": {},
   "outputs": [],
   "source": [
    "## MAKE SURE TO USE ONLY THIS URL TO AVOID BEING STUCK IN ERRORS\n",
    "\n",
    "url = \"https://www.linkedin.com/in/hannah-nardone-126655282/\"\n",
    "driver.get(url)"
   ]
  },
  {
   "cell_type": "code",
   "execution_count": 191,
   "metadata": {},
   "outputs": [],
   "source": [
    "profile_data = {}"
   ]
  },
  {
   "cell_type": "code",
   "execution_count": null,
   "metadata": {},
   "outputs": [
    {
     "data": {
      "text/plain": [
       "'(21) Hannah Nardone | LinkedIn'"
      ]
     },
     "execution_count": 192,
     "metadata": {},
     "output_type": "execute_result"
    }
   ],
   "source": [
    "driver.title"
   ]
  },
  {
   "cell_type": "code",
   "execution_count": 193,
   "metadata": {},
   "outputs": [],
   "source": [
    "page_source = driver.page_source\n",
    "soup = BeautifulSoup(page_source, 'lxml')\n",
    "\n",
    "name = soup.find('h1')\n",
    "\n",
    "name = name.get_text().strip()\n",
    "\n",
    "profile_data['name'] = name\n",
    "profile_data['url'] = url"
   ]
  },
  {
   "cell_type": "code",
   "execution_count": 194,
   "metadata": {},
   "outputs": [
    {
     "data": {
      "text/plain": [
       "{'name': 'Hannah Nardone',\n",
       " 'url': 'https://www.linkedin.com/in/hannah-nardone-126655282/'}"
      ]
     },
     "execution_count": 194,
     "metadata": {},
     "output_type": "execute_result"
    }
   ],
   "source": [
    "profile_data"
   ]
  },
  {
   "cell_type": "code",
   "execution_count": 195,
   "metadata": {},
   "outputs": [],
   "source": [
    "headline = soup.find('div', {'class': 'text-body-medium break-words'})\n",
    "headline = headline.get_text().strip()\n",
    "\n",
    "profile_data['headline'] = headline"
   ]
  },
  {
   "cell_type": "code",
   "execution_count": 196,
   "metadata": {},
   "outputs": [
    {
     "data": {
      "text/plain": [
       "{'name': 'Hannah Nardone',\n",
       " 'url': 'https://www.linkedin.com/in/hannah-nardone-126655282/',\n",
       " 'headline': 'Mathematics Student at McMaster University'}"
      ]
     },
     "execution_count": 196,
     "metadata": {},
     "output_type": "execute_result"
    }
   ],
   "source": [
    "profile_data"
   ]
  },
  {
   "cell_type": "code",
   "execution_count": 197,
   "metadata": {},
   "outputs": [],
   "source": [
    "page_source = driver.page_source\n",
    "soup = BeautifulSoup(page_source, 'lxml')\n",
    "\n",
    "about = soup.find('div', {'class': 'display-flex ph5 pv3'})\n",
    "\n",
    "about = about.get_text().strip()\n",
    "\n",
    "profile_data['about'] = about"
   ]
  },
  {
   "cell_type": "code",
   "execution_count": 198,
   "metadata": {},
   "outputs": [
    {
     "data": {
      "text/plain": [
       "{'name': 'Hannah Nardone',\n",
       " 'url': 'https://www.linkedin.com/in/hannah-nardone-126655282/',\n",
       " 'headline': 'Mathematics Student at McMaster University',\n",
       " 'about': 'Hi! I’m Hannah, I am currently a third year student at McMaster University specializing in mathematics. I am passionate about pure math and eager to pursue research in this field! Hi! I’m Hannah, I am currently a third year student at McMaster University specializing in mathematics. I am passionate about pure math and eager to pursue research in this field!'}"
      ]
     },
     "execution_count": 198,
     "metadata": {},
     "output_type": "execute_result"
    }
   ],
   "source": [
    "profile_data"
   ]
  },
  {
   "cell_type": "code",
   "execution_count": 199,
   "metadata": {},
   "outputs": [],
   "source": [
    "url2 = f\"{url}/overlay/contact-info/\"\n",
    "driver.get(url2)"
   ]
  },
  {
   "cell_type": "code",
   "execution_count": 200,
   "metadata": {},
   "outputs": [
    {
     "name": "stdout",
     "output_type": "stream",
     "text": [
      "blank\n"
     ]
    }
   ],
   "source": [
    "page_source = driver.page_source\n",
    "soup = BeautifulSoup(page_source, 'lxml')\n",
    "\n",
    "\n",
    "email = soup.find('div', {'class': 'sTcdifezBUxpROXbnKHLDEcFBCqbbiGT link-without-visited-state t-14'})\n",
    "\n",
    "if email:\n",
    "    email = email.get_text().strip()\n",
    "else:\n",
    "    print(\"blank\")\n",
    "\n",
    "profile_data['email'] = email"
   ]
  },
  {
   "cell_type": "code",
   "execution_count": 201,
   "metadata": {},
   "outputs": [
    {
     "data": {
      "text/plain": [
       "{'name': 'Hannah Nardone',\n",
       " 'url': 'https://www.linkedin.com/in/hannah-nardone-126655282/',\n",
       " 'headline': 'Mathematics Student at McMaster University',\n",
       " 'about': 'Hi! I’m Hannah, I am currently a third year student at McMaster University specializing in mathematics. I am passionate about pure math and eager to pursue research in this field! Hi! I’m Hannah, I am currently a third year student at McMaster University specializing in mathematics. I am passionate about pure math and eager to pursue research in this field!',\n",
       " 'email': None}"
      ]
     },
     "execution_count": 201,
     "metadata": {},
     "output_type": "execute_result"
    }
   ],
   "source": [
    "profile_data"
   ]
  },
  {
   "cell_type": "code",
   "execution_count": 230,
   "metadata": {},
   "outputs": [
    {
     "name": "stdout",
     "output_type": "stream",
     "text": [
      "{'tags': \"I can analyze the text to extract key tags that best describe the person's background, roles, interests, and areas of expertise. Here are the extracted tags in a Python list of strings:\\n\\n`['McMaster University', 'Mathematics', 'Student', 'Third year', 'Pure math', 'Research']`\\n\\nHere's the tag extraction process:\\n\\n1. The headline mentions the person's affiliation with McMaster University, so we extract `McMaster University` as an institution tag.\\n2. The person is a student, so we extract `Mathematics` as a major or area of study tag.\\n3. Since the person is in their third year, we extract `Third year` as an academic level tag.\\n4. The person is passionate about pure math, so we extract `Pure math` as an interest or area of expertise tag.\\n5. The person wants to pursue research in this field, so we extract `Research` as an area of interest or career aspiration tag.\\n\\nThese tags provide a concise summary of the person's background, roles, interests, and areas of expertise.\", 'summary': 'Here is a summary of the text in 50 words:\\n\\nHannah is a third-year mathematics student at McMaster University. She is passionate about pure math and eager to pursue research in this field.'}\n"
     ]
    }
   ],
   "source": [
    "import os\n",
    "from groq import Groq\n",
    "\n",
    "# Initialize Groq API\n",
    "os.environ[\"GROQ_API_KEY\"] = \"\"\n",
    "client = Groq(api_key=os.environ.get(\"GROQ_API_KEY\"))\n",
    "\n",
    "def extract_dynamic_tags_and_summarize(input_data):\n",
    "    \"\"\"\n",
    "    Extract dynamic tags based on the understanding of the AI model\n",
    "    and summarize the 'about' section in 50 words.\n",
    "    \"\"\"\n",
    "    try:\n",
    "        # Extract headline and about section\n",
    "        headline = input_data.get(\"headline\", \"\")\n",
    "        about = input_data.get(\"about\", \"\")\n",
    "\n",
    "        # AI prompt to extract dynamic tags\n",
    "        tag_prompt = f\"\"\"\n",
    "        Analyze the following headline and about section to extract key tags that best describe the person's background, roles, interests, and areas of expertise. Only in Tags format like McMaster University, Mathematics, Student etc.\n",
    "        \n",
    "        Headline: {headline}\n",
    "        About: {about}\n",
    "        \n",
    "        Extract the tags dynamically and provide them as a python list of strings.\n",
    "        \"\"\"\n",
    "        tag_response = client.chat.completions.create(\n",
    "            model=\"llama3-8b-8192\",\n",
    "            messages=[\n",
    "                {\"role\": \"system\", \"content\": \"You are an expert AI for analyzing text and extracting meaningful tags.\"},\n",
    "                {\"role\": \"user\", \"content\": tag_prompt}\n",
    "            ]\n",
    "        )\n",
    "        tags = tag_response.choices[0].message.content.strip()\n",
    "# tag_response.choices[0].message.content.strip()\n",
    "        # AI prompt to summarize the 'about' section\n",
    "        summary_prompt = f\"\"\"\n",
    "        Summarize the following text into 50 words:\n",
    "        \"{about}\"\n",
    "        \"\"\"\n",
    "        summary_response = client.chat.completions.create(\n",
    "            model=\"llama3-8b-8192\",\n",
    "\n",
    "            messages=[\n",
    "                {\"role\": \"system\", \"content\": \"You are a text summarization assistant.\"},\n",
    "                {\"role\": \"user\", \"content\": summary_prompt}\n",
    "            ]\n",
    "        )\n",
    "        summary = summary_response.choices[0].message.content.strip()\n",
    "# summary_response.choices[0].message.content.strip()\n",
    "        return {\n",
    "            \"tags\": tags,\n",
    "            \"summary\": summary\n",
    "        }\n",
    "\n",
    "    except Exception as e:\n",
    "        return {\"error\": str(e)}\n",
    "\n",
    "# Input data\n",
    "input_data = {\n",
    "    'name': 'Hannah Nardone',\n",
    "    'url': 'https://www.linkedin.com/in/hannah-nardone-126655282/',\n",
    "    'headline': 'Mathematics Student at McMaster University',\n",
    "    'about': 'Hi! I’m Hannah, I am currently a third year student at McMaster University specializing in mathematics. I am passionate about pure math and eager to pursue research in this field! Hi! I’m Hannah, I am currently a third year student at McMaster University specializing in mathematics. I am passionate about pure math and eager to pursue research in this field!',\n",
    "    'email': None\n",
    "}\n",
    "\n",
    "# Extract dynamic tags and summarize\n",
    "result = extract_dynamic_tags_and_summarize(input_data)\n",
    "print(result)"
   ]
  }
 ],
 "metadata": {
  "kernelspec": {
   "display_name": "Python 3",
   "language": "python",
   "name": "python3"
  },
  "language_info": {
   "codemirror_mode": {
    "name": "ipython",
    "version": 3
   },
   "file_extension": ".py",
   "mimetype": "text/x-python",
   "name": "python",
   "nbconvert_exporter": "python",
   "pygments_lexer": "ipython3",
   "version": "3.12.0"
  }
 },
 "nbformat": 4,
 "nbformat_minor": 2
}
