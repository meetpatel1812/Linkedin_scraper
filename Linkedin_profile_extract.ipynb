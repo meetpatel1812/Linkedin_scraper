{
 "cells": [
  {
   "cell_type": "code",
   "execution_count": 7,
   "metadata": {},
   "outputs": [],
   "source": [
    "import warnings\n",
    "warnings.filterwarnings(\"ignore\")"
   ]
  },
  {
   "cell_type": "code",
   "execution_count": 8,
   "metadata": {},
   "outputs": [
    {
     "name": "stdout",
     "output_type": "stream",
     "text": [
      "Requirement already satisfied: webdriver-manager in c:\\d_drive\\projects\\linked_scraper\\env\\lib\\site-packages (4.0.2)\n",
      "Requirement already satisfied: requests in c:\\d_drive\\projects\\linked_scraper\\env\\lib\\site-packages (from webdriver-manager) (2.32.3)\n",
      "Requirement already satisfied: python-dotenv in c:\\d_drive\\projects\\linked_scraper\\env\\lib\\site-packages (from webdriver-manager) (1.0.1)\n",
      "Requirement already satisfied: packaging in c:\\d_drive\\projects\\linked_scraper\\env\\lib\\site-packages (from webdriver-manager) (24.2)\n",
      "Requirement already satisfied: charset-normalizer<4,>=2 in c:\\d_drive\\projects\\linked_scraper\\env\\lib\\site-packages (from requests->webdriver-manager) (3.4.1)\n",
      "Requirement already satisfied: idna<4,>=2.5 in c:\\d_drive\\projects\\linked_scraper\\env\\lib\\site-packages (from requests->webdriver-manager) (3.10)\n",
      "Requirement already satisfied: urllib3<3,>=1.21.1 in c:\\d_drive\\projects\\linked_scraper\\env\\lib\\site-packages (from requests->webdriver-manager) (2.3.0)\n",
      "Requirement already satisfied: certifi>=2017.4.17 in c:\\d_drive\\projects\\linked_scraper\\env\\lib\\site-packages (from requests->webdriver-manager) (2025.1.31)\n"
     ]
    }
   ],
   "source": [
    "!pip install webdriver-manager\n"
   ]
  },
  {
   "cell_type": "code",
   "execution_count": 9,
   "metadata": {},
   "outputs": [
    {
     "data": {
      "text/plain": [
       "False"
      ]
     },
     "execution_count": 9,
     "metadata": {},
     "output_type": "execute_result"
    }
   ],
   "source": [
    "import os\n",
    "from bs4 import BeautifulSoup\n",
    "from selenium import webdriver\n",
    "from selenium.webdriver.common.by import By\n",
    "\n",
    "from time import sleep\n",
    "\n",
    "from dotenv import load_dotenv\n",
    "load_dotenv()"
   ]
  },
  {
   "cell_type": "code",
   "execution_count": 10,
   "metadata": {},
   "outputs": [],
   "source": [
    "# if you don't have a .env file, you can create one and add the following lines:\n",
    "os.environ['EMAIL'] = 'daziaconsulting@gmail.com'\n",
    "os.environ['PASSWORD'] = 'Dazia@2024'   "
   ]
  },
  {
   "cell_type": "code",
   "execution_count": 11,
   "metadata": {},
   "outputs": [
    {
     "name": "stdout",
     "output_type": "stream",
     "text": [
      "Failed to fetch data. HTTP Status Code: 404\n",
      "Response: {\"success\":false,\"title\":\"Not Found\",\"msg\":\"No data found for this person.\"}\n"
     ]
    }
   ],
   "source": [
    "import requests\n",
    "\n",
    "# API base URL\n",
    "url = \"https://api.reversecontact.com/enrichment\"\n",
    "\n",
    "# Get user input for email\n",
    "# email = input(\"Enter the email address: \")\n",
    "email = \"meetpatel8122001@gmail.com\"\n",
    "\n",
    "# Query parameters including the API key\n",
    "querystring = {\n",
    "    \"apikey\": \"sk_b15fdcd5bf159cd1aa6ca2673a28d61de5454ddf\",\n",
    "    \"email\": email\n",
    "}\n",
    "\n",
    "# Make the GET request\n",
    "response = requests.get(url, params=querystring)\n",
    "\n",
    "# Check the response\n",
    "if response.status_code == 200:\n",
    "    data = response.json()\n",
    "    if data.get(\"success\"):\n",
    "        linkedin_url = data[\"person\"].get(\"linkedInUrl\")\n",
    "        if linkedin_url:\n",
    "            print(f\"LinkedIn URL: {linkedin_url}\")\n",
    "        else:\n",
    "            print(\"LinkedIn URL not found.\")\n",
    "    else:\n",
    "        print(\"API call unsuccessful. Check the provided email.\")\n",
    "else:\n",
    "    print(f\"Failed to fetch data. HTTP Status Code: {response.status_code}\")\n",
    "    print(f\"Response: {response.text}\")\n"
   ]
  },
  {
   "cell_type": "code",
   "execution_count": 12,
   "metadata": {},
   "outputs": [
    {
     "ename": "NameError",
     "evalue": "name 'linkedin_url' is not defined",
     "output_type": "error",
     "traceback": [
      "\u001b[1;31m---------------------------------------------------------------------------\u001b[0m",
      "\u001b[1;31mNameError\u001b[0m                                 Traceback (most recent call last)",
      "Cell \u001b[1;32mIn[12], line 1\u001b[0m\n\u001b[1;32m----> 1\u001b[0m \u001b[43mlinkedin_url\u001b[49m\n",
      "\u001b[1;31mNameError\u001b[0m: name 'linkedin_url' is not defined"
     ]
    }
   ],
   "source": [
    "linkedin_url"
   ]
  },
  {
   "cell_type": "code",
   "execution_count": null,
   "metadata": {},
   "outputs": [],
   "source": [
    "driver = webdriver.Chrome()"
   ]
  },
  {
   "cell_type": "code",
   "execution_count": null,
   "metadata": {},
   "outputs": [],
   "source": [
    "driver.get('https://www.linkedin.com/login')"
   ]
  },
  {
   "cell_type": "code",
   "execution_count": null,
   "metadata": {},
   "outputs": [
    {
     "data": {
      "text/plain": [
       "'LinkedIn Login, Sign in | LinkedIn'"
      ]
     },
     "execution_count": 65,
     "metadata": {},
     "output_type": "execute_result"
    }
   ],
   "source": [
    "driver.title"
   ]
  },
  {
   "cell_type": "code",
   "execution_count": null,
   "metadata": {},
   "outputs": [],
   "source": [
    "email = driver.find_element(By.ID, 'username')\n",
    "email.send_keys(os.environ['EMAIL'])\n",
    "\n",
    "password = driver.find_element(By.ID, 'password')\n",
    "password.send_keys(os.environ['PASSWORD'])\n",
    "\n",
    "password.submit()"
   ]
  },
  {
   "cell_type": "code",
   "execution_count": null,
   "metadata": {},
   "outputs": [],
   "source": [
    "## MAKE SURE TO USE ONLY THIS URL TO AVOID BEING STUCK IN ERRORS\n",
    "\n",
    "# url = \"https://www.linkedin.com/in/hannah-nardone-126655282/\"\n",
    "# url = \"https://www.linkedin.com/in/badshah/\"\n",
    "url = linkedin_url\n",
    "driver.get(url)"
   ]
  },
  {
   "cell_type": "code",
   "execution_count": null,
   "metadata": {},
   "outputs": [],
   "source": [
    "profile_data = {}"
   ]
  },
  {
   "cell_type": "code",
   "execution_count": null,
   "metadata": {},
   "outputs": [
    {
     "data": {
      "text/plain": [
       "'(27) Rebecca Chen | LinkedIn'"
      ]
     },
     "execution_count": 69,
     "metadata": {},
     "output_type": "execute_result"
    }
   ],
   "source": [
    "driver.title"
   ]
  },
  {
   "cell_type": "code",
   "execution_count": null,
   "metadata": {},
   "outputs": [],
   "source": [
    "page_source = driver.page_source\n",
    "soup = BeautifulSoup(page_source, 'lxml')\n",
    "\n",
    "name = soup.find('h1')\n",
    "\n",
    "name = name.get_text().strip()\n",
    "\n",
    "profile_data['name'] = name\n",
    "profile_data['url'] = url"
   ]
  },
  {
   "cell_type": "code",
   "execution_count": null,
   "metadata": {},
   "outputs": [
    {
     "data": {
      "text/plain": [
       "{'name': 'Rebecca Chen',\n",
       " 'url': 'https://www.linkedin.com/in/rebecca-chen-0120251b0'}"
      ]
     },
     "execution_count": 71,
     "metadata": {},
     "output_type": "execute_result"
    }
   ],
   "source": [
    "profile_data"
   ]
  },
  {
   "cell_type": "code",
   "execution_count": null,
   "metadata": {},
   "outputs": [],
   "source": [
    "headline = soup.find('div', {'class': 'text-body-medium break-words'})\n",
    "headline = headline.get_text().strip()\n",
    "\n",
    "profile_data['headline'] = headline"
   ]
  },
  {
   "cell_type": "code",
   "execution_count": null,
   "metadata": {},
   "outputs": [
    {
     "data": {
      "text/plain": [
       "{'name': 'Rebecca Chen',\n",
       " 'url': 'https://www.linkedin.com/in/rebecca-chen-0120251b0',\n",
       " 'headline': 'Strategic Talent Acquisition Consultant'}"
      ]
     },
     "execution_count": 73,
     "metadata": {},
     "output_type": "execute_result"
    }
   ],
   "source": [
    "profile_data"
   ]
  },
  {
   "cell_type": "code",
   "execution_count": null,
   "metadata": {},
   "outputs": [],
   "source": [
    "page_source = driver.page_source\n",
    "soup = BeautifulSoup(page_source, 'lxml')\n",
    "\n",
    "about = soup.find('div', {'class': 'display-flex ph5 pv3'})\n",
    "\n",
    "if about:\n",
    "    about = about.get_text().strip()\n",
    "else:\n",
    "    about = None\n",
    "\n",
    "profile_data['about'] = about"
   ]
  },
  {
   "cell_type": "code",
   "execution_count": null,
   "metadata": {},
   "outputs": [
    {
     "data": {
      "text/plain": [
       "{'name': 'Rebecca Chen',\n",
       " 'url': 'https://www.linkedin.com/in/rebecca-chen-0120251b0',\n",
       " 'headline': 'Strategic Talent Acquisition Consultant',\n",
       " 'about': None}"
      ]
     },
     "execution_count": 75,
     "metadata": {},
     "output_type": "execute_result"
    }
   ],
   "source": [
    "profile_data"
   ]
  },
  {
   "cell_type": "code",
   "execution_count": null,
   "metadata": {},
   "outputs": [],
   "source": [
    "url2 = f\"{url}/overlay/contact-info/\"\n",
    "driver.get(url2)"
   ]
  },
  {
   "cell_type": "code",
   "execution_count": null,
   "metadata": {},
   "outputs": [],
   "source": [
    "# page_source = driver.page_source\n",
    "# soup = BeautifulSoup(page_source, 'lxml')\n",
    "\n",
    "\n",
    "# email = soup.find('div', {'class': 'sTcdifezBUxpROXbnKHLDEcFBCqbbiGT link-without-visited-state t-14'})\n",
    "\n",
    "# if email:\n",
    "#     email = email.get_text().strip()\n",
    "# else:\n",
    "#     print(\"blank\")\n",
    "\n",
    "# profile_data['email'] = email"
   ]
  },
  {
   "cell_type": "code",
   "execution_count": null,
   "metadata": {},
   "outputs": [],
   "source": [
    "profile_data['email'] = email"
   ]
  },
  {
   "cell_type": "code",
   "execution_count": null,
   "metadata": {},
   "outputs": [
    {
     "data": {
      "text/plain": [
       "{'name': 'Rebecca Chen',\n",
       " 'url': 'https://www.linkedin.com/in/rebecca-chen-0120251b0',\n",
       " 'headline': 'Strategic Talent Acquisition Consultant',\n",
       " 'about': None,\n",
       " 'email': <selenium.webdriver.remote.webelement.WebElement (session=\"e4baac9ea7856d97ddb107528b10933b\", element=\"f.C3F14D6989D1BCABEE054C082D9E0A7E.d.DC835715531DB06F6406AEB3AD7FA5DB.e.1\")>}"
      ]
     },
     "execution_count": 79,
     "metadata": {},
     "output_type": "execute_result"
    }
   ],
   "source": [
    "profile_data"
   ]
  },
  {
   "cell_type": "code",
   "execution_count": null,
   "metadata": {},
   "outputs": [
    {
     "name": "stdout",
     "output_type": "stream",
     "text": [
      "{'tags': \"After analyzing the provided headline and about section, I extracted the following tags that best describe the person's background, roles, interests, and areas of expertise:\\n\\n`['FindGrant.ca', 'AI', 'Grant', 'IT', 'Finance', 'Prototypes', 'Blockchain', 'Full_stack_development', 'Responsive_web_frameworks', 'People_Management', 'Information_Technology', 'Community', 'Blockhack', 'Elevate_Toronto', 'HackJustice', 'Climathon_Toronto', 'Horse_Racing_3.0', '15+ years_experience']`\\n\\nThese tags capture the person's background in IT and Finance, their specializations in Prototypes, Blockchain, Full-stack development, and Responsive web frameworks, as well as their experience in People Management and Information Technology. The tags also highlight their achievements in various hackathons and competitions, demonstrating their expertise in these areas. Finally, the presence of the specific grant platform FindGrant.ca and the emphasis on AI suggest that the person's primary area of expertise is in grant finding using AI technology.\", 'summary': 'The text promotes a platform (FindGrant.ca) that uses AI to help finding over $37 billion in government grants. The author has 15+ years of experience in IT and finance, with various specializations and awards in hackathons and competitions.'}\n"
     ]
    }
   ],
   "source": [
    "import os\n",
    "from groq import Groq\n",
    "\n",
    "# Initialize Groq API\n",
    "os.environ[\"GROQ_API_KEY\"] = \"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\"\n",
    "client = Groq(api_key=os.environ.get(\"GROQ_API_KEY\"))\n",
    "\n",
    "def extract_dynamic_tags_and_summarize(input_data):\n",
    "    \"\"\"\n",
    "    Extract dynamic tags based on the understanding of the AI model\n",
    "    and summarize the 'about' section in 50 words.\n",
    "    \"\"\"\n",
    "    try:\n",
    "        # Extract headline and about section\n",
    "        headline = input_data.get(\"headline\", \"\")\n",
    "        about = input_data.get(\"about\", \"\")\n",
    "\n",
    "        # AI prompt to extract dynamic tags\n",
    "        tag_prompt = f\"\"\"\n",
    "        Analyze the following headline and about section to extract key tags that best describe the person's background, roles, interests, and areas of expertise. Only in Tags format like McMaster University, Mathematics, Student etc.\n",
    "        \n",
    "        Headline: {headline}\n",
    "        About: {about}\n",
    "        \n",
    "        Extract the tags dynamically and provide them as a python list of strings.\n",
    "        \"\"\"\n",
    "        tag_response = client.chat.completions.create(\n",
    "            model=\"llama3-8b-8192\",\n",
    "            messages=[\n",
    "                {\"role\": \"system\", \"content\": \"You are an expert AI for analyzing text and extracting meaningful tags.\"},\n",
    "                {\"role\": \"user\", \"content\": tag_prompt}\n",
    "            ]\n",
    "        )\n",
    "        tags = tag_response.choices[0].message.content.strip()\n",
    "# tag_response.choices[0].message.content.strip()\n",
    "        # AI prompt to summarize the 'about' section\n",
    "        summary_prompt = f\"\"\"\n",
    "        Summarize the following text into 50 words:\n",
    "        \"{about}\"\n",
    "        \"\"\"\n",
    "        summary_response = client.chat.completions.create(\n",
    "            model=\"llama3-8b-8192\",\n",
    "\n",
    "            messages=[\n",
    "                {\"role\": \"system\", \"content\": \"You are a text summarization assistant.\"},\n",
    "                {\"role\": \"user\", \"content\": summary_prompt}\n",
    "            ]\n",
    "        )\n",
    "        summary = summary_response.choices[0].message.content.strip()\n",
    "# summary_response.choices[0].message.content.strip()\n",
    "        return {\n",
    "            \"tags\": tags,\n",
    "            \"summary\": summary\n",
    "        }\n",
    "\n",
    "    except Exception as e:\n",
    "        return {\"error\": str(e)}\n",
    "\n",
    "# Input data\n",
    "input_data = {'name': 'Shabs FindGrant',\n",
    " 'url': 'https://www.linkedin.com/in/badshah/',\n",
    " 'headline': 'FindGrant.ca | AI for finding grants',\n",
    " 'about': \"Use #AI to help you find over $37 billion in #grants from the federal, provincial and city governments.. Check out https://FindGrant.ca! I have 15+ years experience in IT and Finance Specialities:  Prototypes, Blockchain, Full stack development, Responsive web frameworks, People Management, Information Technology, CommunityWinner at Blockhack 2023 (Grand Prize), Elevate Toronto 2018 (First place), HackJustice 2017 (Second place), Climathon Toronto 2016 (People's Choice), HorseRacing 3.0 2016 (2nd Grand Prize)Use #AI to help you find over $37 billion in #grants from the federal, provincial and city governments.. Check out https://FindGrant.ca! \\n\\nI have 15+ years experience in IT and Finance \\nSpecialities:  Prototypes, Blockchain, Full stack development, Responsive web frameworks, People Management, Information Technology, Community\\n\\nWinner at Blockhack 2023 (Grand Prize), Elevate Toronto 2018 (First place), \\nHackJustice 2017 (Second place), Climathon Toronto 2016 (People's Choice), HorseRacing 3.0 2016 (2nd Grand Prize)\",\n",
    " 'email': None}\n",
    "\n",
    "# Extract dynamic tags and summarize\n",
    "result = extract_dynamic_tags_and_summarize(input_data)\n",
    "print(result)"
   ]
  },
  {
   "cell_type": "markdown",
   "metadata": {},
   "source": [
    "## New code"
   ]
  },
  {
   "cell_type": "code",
   "execution_count": null,
   "metadata": {},
   "outputs": [],
   "source": [
    "import os\n",
    "from groq import Groq\n",
    "\n",
    "# Initialize Groq API\n",
    "os.environ[\"GROQ_API_KEY\"] = \"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\"\n",
    "client = Groq(api_key=os.environ.get(\"GROQ_API_KEY\"))\n",
    "\n",
    "def extract_tags_summarize_and_create_note(input_data):\n",
    "    \"\"\"\n",
    "    Extract dynamic tags, summarize the 'about' section in 50 words as \"I\",\n",
    "    and create a 100-word LinkedIn connection request note.\n",
    "    \"\"\"\n",
    "    try:\n",
    "        # Extract relevant fields\n",
    "        name = input_data.get(\"name\", \"\")\n",
    "        headline = input_data.get(\"headline\", \"\")\n",
    "        # about = input_data.get(\"about\", \"\")\n",
    "\n",
    "        # AI prompt to extract dynamic tags\n",
    "        tag_prompt = f\"\"\"\n",
    "        Analyze the following information and extract key tags that describe the person's roles, interests, and expertise.\n",
    "        Provide ONLY a comma-separated list of tags. Do NOT include any additional text or explanations.\n",
    "\n",
    "        Name: {name}\n",
    "        Headline: {headline}\n",
    "        About: {about}\n",
    "        \"\"\"\n",
    "        tag_response = client.chat.completions.create(\n",
    "            model=\"llama3-8b-8192\",\n",
    "            messages=[\n",
    "                {\"role\": \"system\", \"content\": \"You are an expert AI for analyzing text and extracting meaningful tags.\"},\n",
    "                {\"role\": \"user\", \"content\": tag_prompt}\n",
    "            ]\n",
    "        )\n",
    "        tags = tag_response.choices[0].message.content.strip()\n",
    "\n",
    "        # AI prompt to summarize the 'about' section in 50 words as \"I\"\n",
    "        summary_prompt = f\"\"\"\n",
    "        Summarize the following text into 50 words in first person (\"I\"). \n",
    "        Provide ONLY the summary.\n",
    "        Strongly Do NOT include any additional text or explanations.\n",
    "\n",
    "        About: \"{about}\"\n",
    "        \"\"\"\n",
    "        summary_response = client.chat.completions.create(\n",
    "            model=\"llama3-8b-8192\",\n",
    "            messages=[\n",
    "                {\"role\": \"system\", \"content\": \"You are a text summarization assistant.\"},\n",
    "                {\"role\": \"user\", \"content\": summary_prompt}\n",
    "            ]\n",
    "        )\n",
    "        summary = summary_response.choices[0].message.content.strip()\n",
    "\n",
    "        # AI prompt to create a 100-word LinkedIn connection request note\n",
    "        note_prompt = f\"\"\"\n",
    "        Create a 100-word LinkedIn connection request note based on the following information.\n",
    "        Provide ONLY the note.\n",
    "        Strongly Do NOT include any additional text or explanations.\n",
    "\n",
    "        Name: {name}\n",
    "        Headline: {headline}\n",
    "        About: {about}\n",
    "        \"\"\"\n",
    "        note_response = client.chat.completions.create(\n",
    "            model=\"llama3-8b-8192\",\n",
    "            messages=[\n",
    "                {\"role\": \"system\", \"content\": \"You are a professional networking assistant.\"},\n",
    "                {\"role\": \"user\", \"content\": note_prompt}\n",
    "            ]\n",
    "        )\n",
    "        note = note_response.choices[0].message.content.strip()\n",
    "\n",
    "        return {\n",
    "            \"tags\": tags,\n",
    "            \"summary\": summary,\n",
    "            \"linkedin_note\": note\n",
    "        }\n",
    "\n",
    "    except Exception as e:\n",
    "        return {\"error\": str(e)}\n",
    "\n",
    "# Input data\n",
    "input_data = profile_data\n",
    "# input_data = {\n",
    "#     'name': 'Shabs FindGrant',\n",
    "#     'url': 'https://www.linkedin.com/in/badshah/',\n",
    "#     'headline': 'FindGrant.ca | AI for finding grants',\n",
    "#     'about': \"Use #AI to help you find over $37 billion in #grants from the federal, provincial and city governments.. Check out https://FindGrant.ca! I have 15+ years experience in IT and Finance Specialities:  Prototypes, Blockchain, Full stack development, Responsive web frameworks, People Management, Information Technology, CommunityWinner at Blockhack 2023 (Grand Prize), Elevate Toronto 2018 (First place), HackJustice 2017 (Second place), Climathon Toronto 2016 (People's Choice), HorseRacing 3.0 2016 (2nd Grand Prize)Use #AI to help you find over $37 billion in #grants from the federal, provincial and city governments.. Check out https://FindGrant.ca! \\n\\nI have 15+ years experience in IT and Finance \\nSpecialities:  Prototypes, Blockchain, Full stack development, Responsive web frameworks, People Management, Information Technology, Community\\n\\nWinner at Blockhack 2023 (Grand Prize), Elevate Toronto 2018 (First place), \\nHackJustice 2017 (Second place), Climathon Toronto 2016 (People's Choice), HorseRacing 3.0 2016 (2nd Grand Prize)\",\n",
    "#     'email': None\n",
    "# }\n",
    "\n",
    "# Extract tags, summarize, and create LinkedIn note\n",
    "result = extract_tags_summarize_and_create_note(input_data)"
   ]
  },
  {
   "cell_type": "code",
   "execution_count": null,
   "metadata": {},
   "outputs": [
    {
     "data": {
      "text/plain": [
       "{'tags': 'Strategic Talent Acquisition Consultant, Recruitment Specialist, Human Resources, Talent Management',\n",
       " 'summary': \"I'm exploring a new area of natural language processing, focusing on text summarization. I analyze large amounts of text data, identifying key points and condensing them into a concise summary. My goal is to provide accurate and understandable summaries, helping users quickly grasp complex information.\",\n",
       " 'linkedin_note': '\"Hi Rebecca, I came across your profile and was impressed with your experience as a Strategic Talent Acquisition Consultant. I\\'d love to connect with you on LinkedIn as I\\'m always looking to expand my network in the talent acquisition space. I\\'m a professional networking assistant, dedicated to helping professionals like yourself build meaningful connections and opportunities. I\\'d be happy to learn more about your work and share my own expertise in return. Looking forward to hearing from you!\"'}"
      ]
     },
     "execution_count": 82,
     "metadata": {},
     "output_type": "execute_result"
    }
   ],
   "source": [
    "result"
   ]
  },
  {
   "cell_type": "code",
   "execution_count": null,
   "metadata": {},
   "outputs": [],
   "source": []
  },
  {
   "cell_type": "code",
   "execution_count": null,
   "metadata": {},
   "outputs": [],
   "source": []
  }
 ],
 "metadata": {
  "kernelspec": {
   "display_name": "env",
   "language": "python",
   "name": "python3"
  },
  "language_info": {
   "codemirror_mode": {
    "name": "ipython",
    "version": 3
   },
   "file_extension": ".py",
   "mimetype": "text/x-python",
   "name": "python",
   "nbconvert_exporter": "python",
   "pygments_lexer": "ipython3",
   "version": "3.13.1"
  }
 },
 "nbformat": 4,
 "nbformat_minor": 2
}
